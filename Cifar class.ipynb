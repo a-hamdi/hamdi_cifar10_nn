{
 "cells": [
  {
   "cell_type": "code",
   "execution_count": 1,
   "id": "ec518f41",
   "metadata": {},
   "outputs": [],
   "source": [
    "import torch\n",
    "import torchvision\n",
    "import torchvision.transforms as transforms\n",
    "import numpy as np\n",
    "import torch.nn as nn\n",
    "import torch.nn.functional as F\n",
    "import torch.optim as optim"
   ]
  },
  {
   "cell_type": "code",
   "execution_count": 2,
   "id": "cc16457b",
   "metadata": {},
   "outputs": [
    {
     "name": "stdout",
     "output_type": "stream",
     "text": [
      "Files already downloaded and verified\n",
      "Files already downloaded and verified\n"
     ]
    }
   ],
   "source": [
    "transform = transforms.Compose(\n",
    "    [transforms.ToTensor(),\n",
    "     transforms.Normalize((0.3, 0.3, 0.3), (0.3, 0.3, 0.3))])\n",
    "\n",
    "batch_size = 8\n",
    "\n",
    "trainset = torchvision.datasets.CIFAR10(root='./data', train=True,\n",
    "                                        download=True, transform=transform)\n",
    "trainloader = torch.utils.data.DataLoader(trainset, batch_size=batch_size,\n",
    "                                          shuffle=True, num_workers=2)\n",
    "\n",
    "testset = torchvision.datasets.CIFAR10(root='./data', train=False,\n",
    "                                       download=True, transform=transform)\n",
    "testloader = torch.utils.data.DataLoader(testset, batch_size=batch_size,\n",
    "                                         shuffle=False, num_workers=2)\n",
    "\n",
    "\n",
    "classes = ('plane', 'car', 'bird', 'cat',\n",
    "           'deer', 'dog', 'frog', 'horse', 'ship', 'truck')"
   ]
  },
  {
   "cell_type": "code",
   "execution_count": 3,
   "id": "ae5390a3",
   "metadata": {},
   "outputs": [],
   "source": [
    "class Hamdinn(nn.Module):\n",
    "    def __init__(self):\n",
    "        super().__init__()\n",
    "        self.conv1 = nn.Conv2d(3, 10, 5)\n",
    "        self.pool = nn.MaxPool2d(2, 2)\n",
    "        self.conv2 = nn.Conv2d(10, 16, 5)\n",
    "        self.fc1 = nn.Linear(16 * 5 * 5, 120)\n",
    "        self.fc2 = nn.Linear(120, 84)\n",
    "        self.fc3 = nn.Linear(84, 10)\n",
    "\n",
    "    def forward(self, x):\n",
    "        x = self.pool(F.relu(self.conv1(x)))\n",
    "        x = self.pool(F.relu(self.conv2(x)))\n",
    "        x = torch.flatten(x, 1) \n",
    "        x = F.relu(self.fc1(x))\n",
    "        x = F.relu(self.fc2(x))\n",
    "        x = self.fc3(x)\n",
    "        return x\n",
    "hamdi=Hamdinn()\n",
    "\n",
    "hamdiparam=hamdi.parameters()\n",
    "criterion = nn.CrossEntropyLoss()\n",
    "optimizer = optim.SGD(hamdiparam, lr=0.001, momentum=0.9)"
   ]
  },
  {
   "cell_type": "code",
   "execution_count": 4,
   "id": "343324bf",
   "metadata": {},
   "outputs": [
    {
     "name": "stdout",
     "output_type": "stream",
     "text": [
      "[1,  2000] loss: 1.396\n",
      "[1,  5000] loss: 1.637\n",
      "[2,  2000] loss: 0.937\n",
      "[2,  5000] loss: 1.320\n",
      "[3,  2000] loss: 0.807\n",
      "[3,  5000] loss: 1.173\n",
      "[4,  2000] loss: 0.717\n",
      "[4,  5000] loss: 1.082\n",
      "Finished Training\n"
     ]
    }
   ],
   "source": [
    "for epoch in range(4): \n",
    "\n",
    "    running_loss = 0.0\n",
    "    for i, d in enumerate(trainloader, 0):\n",
    "        inputs, labels = d\n",
    "\n",
    "        optimizer.zero_grad()\n",
    "        outputs = hamdi(inputs)\n",
    "        loss = criterion(outputs, labels)\n",
    "        loss.backward()\n",
    "        optimizer.step()\n",
    "        running_loss += loss.item()\n",
    "        if i % 3000 == 1999:    \n",
    "            print(f'[{epoch + 1}, {i + 1:5d}] loss: {running_loss / 3000:.3f}')\n",
    "            running_loss = 0.0\n",
    "\n",
    "print('Finished Training')"
   ]
  },
  {
   "cell_type": "code",
   "execution_count": 5,
   "id": "42650df8",
   "metadata": {},
   "outputs": [],
   "source": [
    "torch.save(hamdi.state_dict(), './hamdinet.pth')"
   ]
  },
  {
   "cell_type": "code",
   "execution_count": 6,
   "id": "553917a0",
   "metadata": {},
   "outputs": [
    {
     "name": "stdout",
     "output_type": "stream",
     "text": [
      "Accuracy of the network on the 10000 test images: 62 %\n"
     ]
    }
   ],
   "source": [
    "correct = 0\n",
    "total = 0\n",
    "with torch.no_grad():\n",
    "    for data in testloader:\n",
    "        images, labels = data\n",
    "        outputs = hamdi(images)\n",
    "        _, predicted = torch.max(outputs.data, 1)\n",
    "        total += labels.size(0)\n",
    "        correct += (predicted == labels).sum().item()\n",
    "\n",
    "print(f'Accuracy of the network on the 10000 test images: {100 * correct // total} %')"
   ]
  },
  {
   "cell_type": "code",
   "execution_count": 7,
   "id": "ee6ac986",
   "metadata": {},
   "outputs": [
    {
     "name": "stdout",
     "output_type": "stream",
     "text": [
      "Accuracy for class: plane is 66.9 %\n",
      "Accuracy for class: car   is 76.2 %\n",
      "Accuracy for class: bird  is 51.7 %\n",
      "Accuracy for class: cat   is 47.5 %\n",
      "Accuracy for class: deer  is 53.4 %\n",
      "Accuracy for class: dog   is 37.0 %\n",
      "Accuracy for class: frog  is 68.0 %\n",
      "Accuracy for class: horse is 73.4 %\n",
      "Accuracy for class: ship  is 75.4 %\n",
      "Accuracy for class: truck is 73.3 %\n"
     ]
    }
   ],
   "source": [
    "correct_pred = {classname: 0 for classname in classes}\n",
    "total_pred = {classname: 0 for classname in classes}\n",
    "\n",
    "with torch.no_grad():\n",
    "    for data in testloader:\n",
    "        images, labels = data\n",
    "        outputs = hamdi(images)\n",
    "        _, predictions = torch.max(outputs, 1)\n",
    "        for label, prediction in zip(labels, predictions):\n",
    "            if label == prediction:\n",
    "                correct_pred[classes[label]] += 1\n",
    "            total_pred[classes[label]] += 1\n",
    "\n",
    "for classname, correct_count in correct_pred.items():\n",
    "    accuracy = 100 * float(correct_count) / total_pred[classname]\n",
    "    print(f'Accuracy for class: {classname:5s} is {accuracy:.1f} %')"
   ]
  },
  {
   "cell_type": "code",
   "execution_count": null,
   "id": "c060cffb",
   "metadata": {},
   "outputs": [],
   "source": [
    "#BY:Hamdi abderrahmene\n",
    "#inspired by:https://pytorch.org/tutorials/beginner/blitz/cifar10_tutorial.html\n"
   ]
  }
 ],
 "metadata": {
  "kernelspec": {
   "display_name": "Python 3 (ipykernel)",
   "language": "python",
   "name": "python3"
  },
  "language_info": {
   "codemirror_mode": {
    "name": "ipython",
    "version": 3
   },
   "file_extension": ".py",
   "mimetype": "text/x-python",
   "name": "python",
   "nbconvert_exporter": "python",
   "pygments_lexer": "ipython3",
   "version": "3.9.7"
  }
 },
 "nbformat": 4,
 "nbformat_minor": 5
}
